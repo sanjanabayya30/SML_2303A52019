{
  "nbformat": 4,
  "nbformat_minor": 0,
  "metadata": {
    "colab": {
      "provenance": [],
      "authorship_tag": "ABX9TyNIAf3UdyINBGRzt6Fsk1on",
      "include_colab_link": true
    },
    "kernelspec": {
      "name": "python3",
      "display_name": "Python 3"
    },
    "language_info": {
      "name": "python"
    }
  },
  "cells": [
    {
      "cell_type": "markdown",
      "metadata": {
        "id": "view-in-github",
        "colab_type": "text"
      },
      "source": [
        "<a href=\"https://colab.research.google.com/github/sanjanabayya30/SML_2303A52019/blob/main/Pb_L1.ipynb\" target=\"_parent\"><img src=\"https://colab.research.google.com/assets/colab-badge.svg\" alt=\"Open In Colab\"/></a>"
      ]
    },
    {
      "cell_type": "code",
      "execution_count": null,
      "metadata": {
        "colab": {
          "base_uri": "https://localhost:8080/"
        },
        "id": "QiqoXEczjsQA",
        "outputId": "12769f0e-cb95-4c02-80a2-b479d119bdd3"
      },
      "outputs": [
        {
          "output_type": "stream",
          "name": "stdout",
          "text": [
            "Number of days: 33\n",
            "Total travel time: 767 minutes\n",
            "\n",
            "Discrete Distribution Table:\n",
            "    Frequency  Relative Frequency  Percentage (%)\n",
            "15          6            0.181818       18.181818\n",
            "18          5            0.151515       15.151515\n",
            "22          4            0.121212       12.121212\n",
            "23          3            0.090909        9.090909\n",
            "24          4            0.121212       12.121212\n",
            "25          2            0.060606        6.060606\n",
            "26          4            0.121212       12.121212\n",
            "32          3            0.090909        9.090909\n",
            "36          1            0.030303        3.030303\n",
            "48          1            0.030303        3.030303\n"
          ]
        }
      ],
      "source": [
        "import pandas as pd\n",
        "\n",
        "travel_times = [26, 15, 22, 15, 18, 15, 32, 15, 22, 15,\n",
        "                18, 23, 24, 18, 24, 18, 26, 18, 22, 26,\n",
        "                22, 23, 23, 32, 24, 25, 15, 25, 26, 32,\n",
        "                36, 48, 24]\n",
        "\n",
        "num_days = len(travel_times)\n",
        "\n",
        "total_travel_time = sum(travel_times)\n",
        "\n",
        "distribution_table = pd.Series(travel_times).value_counts().sort_index()\n",
        "\n",
        "relative_frequency = distribution_table / num_days\n",
        "percentage = relative_frequency * 100\n",
        "\n",
        "results_df = pd.DataFrame({\n",
        "    'Frequency': distribution_table,\n",
        "    'Relative Frequency': relative_frequency,\n",
        "    'Percentage (%)': percentage\n",
        "})\n",
        "\n",
        "print(f\"Number of days: {num_days}\")\n",
        "print(f\"Total travel time: {total_travel_time} minutes\")\n",
        "print(\"\\nDiscrete Distribution Table:\")\n",
        "print(results_df)"
      ]
    },
    {
      "cell_type": "code",
      "source": [
        "import pandas as pd\n",
        "\n",
        "data = [112, 121, 126, 108, 141, 104, 136, 134,\n",
        "        121, 118, 143, 116, 108, 122, 127, 140,\n",
        "        113, 117, 126, 130, 134, 120, 131, 133,\n",
        "        118, 125, 151, 147, 137, 140, 132, 119,\n",
        "        110, 124, 132, 152, 135, 130, 136, 128]\n",
        "\n",
        "bins = range(100, 155, 5)\n",
        "frequency_distribution = pd.cut(data, bins=bins).value_counts().sort_index()\n",
        "\n",
        "total_transistors = len(data)\n",
        "relative_frequency = frequency_distribution / total_transistors\n",
        "percentage_frequency = relative_frequency * 100\n",
        "\n",
        "results_df = pd.DataFrame({\n",
        "    'Frequency': frequency_distribution,\n",
        "    'Relative Frequency': relative_frequency,\n",
        "    'Percentage (%)': percentage_frequency\n",
        "})\n",
        "\n",
        "results_df.loc['Total'] = results_df.sum()\n",
        "\n",
        "print(f\"Total number of transistors: {total_transistors}\")\n",
        "print(results_df)"
      ],
      "metadata": {
        "colab": {
          "base_uri": "https://localhost:8080/"
        },
        "id": "khaCqoiWkIKt",
        "outputId": "5fa1d705-e27e-453e-bd79-b16f7d3cf96a"
      },
      "execution_count": null,
      "outputs": [
        {
          "output_type": "stream",
          "name": "stdout",
          "text": [
            "Total number of transistors: 40\n",
            "            Frequency  Relative Frequency  Percentage (%)\n",
            "(100, 105]        1.0               0.025             2.5\n",
            "(105, 110]        3.0               0.075             7.5\n",
            "(110, 115]        2.0               0.050             5.0\n",
            "(115, 120]        6.0               0.150            15.0\n",
            "(120, 125]        5.0               0.125            12.5\n",
            "(125, 130]        6.0               0.150            15.0\n",
            "(130, 135]        7.0               0.175            17.5\n",
            "(135, 140]        5.0               0.125            12.5\n",
            "(140, 145]        2.0               0.050             5.0\n",
            "(145, 150]        1.0               0.025             2.5\n",
            "Total            38.0               0.950            95.0\n"
          ]
        }
      ]
    }
  ]
}