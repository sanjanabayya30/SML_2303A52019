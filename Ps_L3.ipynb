{
  "cells": [
    {
      "cell_type": "markdown",
      "metadata": {
        "id": "view-in-github",
        "colab_type": "text"
      },
      "source": [
        "<a href=\"https://colab.research.google.com/github/sanjanabayya30/SML_2303A52019/blob/main/Ps_L3.ipynb\" target=\"_parent\"><img src=\"https://colab.research.google.com/assets/colab-badge.svg\" alt=\"Open In Colab\"/></a>"
      ]
    },
    {
      "cell_type": "code",
      "source": [
        "import numpy as np\n",
        "import pandas as pd\n",
        "data = [12, 45, 67, 23, 45, 89, 45, 12, 33, 67, 67, 78, 45, 23, 23, 56, 89, 45, 33, 45]\n",
        "\n",
        "median_numpy = np.median(data)\n",
        "print(\"Median(NUMPY):\",median_numpy)\n",
        "\n",
        "mode_numpy = np.bincount(data).argmax()\n",
        "print(\"Mode(NUMPY):\",mode_numpy)\n",
        "\n",
        "mode_pandas = pd.Series(data).mode()[0]\n",
        "print(\"Mode(PANDAS):\",mode_pandas)"
      ],
      "metadata": {
        "id": "wDNwdvgzmHpL",
        "outputId": "d5ea5b09-f12a-4041-e4be-d22831b8e3a7",
        "colab": {
          "base_uri": "https://localhost:8080/"
        }
      },
      "execution_count": null,
      "outputs": [
        {
          "output_type": "stream",
          "name": "stdout",
          "text": [
            "Median(NUMPY): 45.0\n",
            "Mode(NUMPY): 45\n",
            "Mode(PANDAS): 45\n"
          ]
        }
      ]
    },
    {
      "cell_type": "code",
      "source": [
        "import numpy as np\n",
        "import pandas as pd\n",
        "\n",
        "scores = [10, 20, 30, 40, 50]\n",
        "frequencies = [5, 8, 12, 15, 7]\n",
        "\n",
        "data = []\n",
        "for score, frequency in zip(scores,frequencies):\n",
        "  data.extend([score] * frequency)\n",
        "\n",
        "median_numpy = np.median(data)\n",
        "print(\"Median(NUMPY):\",median_numpy)\n",
        "\n",
        "mode_numpy = np.bincount(data).argmax()\n",
        "print(\"Mode(NUMPY):\",mode_numpy)\n",
        "\n",
        "mode_pandas = pd.Series(data).mode()[0]\n",
        "print(\"Mode(PANDAS):\",mode_pandas)"
      ],
      "metadata": {
        "id": "WPnOXEjvmWvP",
        "outputId": "180229a1-668e-41d8-8485-0c1d707769eb",
        "colab": {
          "base_uri": "https://localhost:8080/"
        }
      },
      "execution_count": null,
      "outputs": [
        {
          "output_type": "stream",
          "name": "stdout",
          "text": [
            "Median(NUMPY): 30.0\n",
            "Mode(NUMPY): 40\n",
            "Mode(PANDAS): 40\n"
          ]
        }
      ]
    },
    {
      "cell_type": "code",
      "source": [
        "import numpy as np\n",
        "\n",
        "class_intervals = [(0, 10), (10, 20), (20, 30), (30, 40), (40, 50)]\n",
        "frequencies = [4, 6, 10, 8, 2]\n",
        "\n",
        "cumulative_frequencies = np.cumsum(frequencies)\n",
        "total_data_points = sum(frequencies)\n",
        "class_width = class_intervals[0][1] - class_intervals[0][0]\n",
        "\n",
        "median_class_index = next(i for i, cf in enumerate(cumulative_frequencies) if cf >= total_data_points / 2)\n",
        "L_median = class_intervals[median_class_index][0]\n",
        "F_before_median = cumulative_frequencies[median_class_index - 1] if median_class_index > 0 else 0\n",
        "median_grouped = L_median + ((total_data_points / 2 - F_before_median) / frequencies[median_class_index]) * class_width\n",
        "\n",
        "mode_class_index = np.argmax(frequencies)\n",
        "L_mode = class_intervals[mode_class_index][0]\n",
        "f_prev = frequencies[mode_class_index - 1] if mode_class_index > 0 else 0\n",
        "f_next = frequencies[mode_class_index + 1] if mode_class_index < len(frequencies) - 1 else 0\n",
        "mode_grouped = L_mode + ((frequencies[mode_class_index] - f_prev) / (2 * frequencies[mode_class_index] - f_prev - f_next)) * class_width\n",
        "\n",
        "print(\"Median (grouped data):\", median_grouped)\n",
        "print(\"Mode (grouped data):\",mode_grouped)"
      ],
      "metadata": {
        "id": "aMRHzdazmb33",
        "outputId": "41d2c328-6565-459e-8b78-796bd38ac845",
        "colab": {
          "base_uri": "https://localhost:8080/"
        }
      },
      "execution_count": null,
      "outputs": [
        {
          "output_type": "stream",
          "name": "stdout",
          "text": [
            "Median (grouped data): 25.0\n",
            "Mode (grouped data): 26.666666666666664\n"
          ]
        }
      ]
    }
  ],
  "metadata": {
    "colab": {
      "provenance": [],
      "include_colab_link": true
    },
    "kernelspec": {
      "display_name": "Python 3",
      "name": "python3"
    }
  },
  "nbformat": 4,
  "nbformat_minor": 0
}