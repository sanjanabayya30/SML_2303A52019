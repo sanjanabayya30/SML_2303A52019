{
  "nbformat": 4,
  "nbformat_minor": 0,
  "metadata": {
    "colab": {
      "provenance": [],
      "authorship_tag": "ABX9TyOqns2M70brW0iclO06jTEj",
      "include_colab_link": true
    },
    "kernelspec": {
      "name": "python3",
      "display_name": "Python 3"
    },
    "language_info": {
      "name": "python"
    }
  },
  "cells": [
    {
      "cell_type": "markdown",
      "metadata": {
        "id": "view-in-github",
        "colab_type": "text"
      },
      "source": [
        "<a href=\"https://colab.research.google.com/github/sanjanabayya30/SML_2303A52019/blob/main/Ps_L2.ipynb\" target=\"_parent\"><img src=\"https://colab.research.google.com/assets/colab-badge.svg\" alt=\"Open In Colab\"/></a>"
      ]
    },
    {
      "cell_type": "code",
      "execution_count": null,
      "metadata": {
        "colab": {
          "base_uri": "https://localhost:8080/"
        },
        "id": "jLFmKhlDk7xv",
        "outputId": "9b6f3ed1-0c3b-4e9d-98c0-15fac4d4d7ef"
      },
      "outputs": [
        {
          "output_type": "stream",
          "name": "stdout",
          "text": [
            "[5.0, 15.0, 25.0, 35.0, 45.0, 55.0]\n",
            "Sum_products(MidPoints*frequency): 1225.0\n",
            "sum_frequency: 37\n",
            "mean_continous_frequency: 33.108108108108105\n"
          ]
        }
      ],
      "source": [
        "class_intervals=[(0,10),(10,20),(20,30),(30,40),(40,50),(50,60)]\n",
        "frequency=1,8,7,8,7,6\n",
        "\n",
        "midpoints =[]\n",
        "for interval in class_intervals:\n",
        "  midpoint=(interval[0]+interval[1])/2\n",
        "  midpoints.append(midpoint)\n",
        "\n",
        "\n",
        "sum_products=0\n",
        "for i in range(len(midpoints)):\n",
        "  sum_products=sum_products+(frequency[i]*midpoints[i])\n",
        "\n",
        "sum_frequency=0\n",
        "for i in range(len(frequency)):\n",
        "  sum_frequency=sum_frequency+frequency[i]\n",
        "\n",
        "mean_continous_frequency=sum_products/sum_frequency\n",
        "print(midpoints)\n",
        "print(\"Sum_products(MidPoints*frequency):\",sum_products)\n",
        "print(\"sum_frequency:\",sum_frequency)\n",
        "print(\"mean_continous_frequency:\",mean_continous_frequency)"
      ]
    },
    {
      "cell_type": "code",
      "source": [
        "import numpy as np\n",
        "\n",
        "def calculate_variance(data):\n",
        "\n",
        "    mean = np.mean(data)\n",
        "    squared_diff = [(x - mean) ** 2 for x in data]\n",
        "    variance = np.sum(squared_diff) / len(data)\n",
        "\n",
        "    return variance\n",
        "\n",
        "# Example usage:\n",
        "data = [13, 22, 25, 25, 14, 23, 31, 16]\n",
        "variance = calculate_variance(data)\n",
        "print(f\"Variance: {variance}\")"
      ],
      "metadata": {
        "colab": {
          "base_uri": "https://localhost:8080/"
        },
        "id": "PnuaqCaklRyy",
        "outputId": "b34a0660-da96-4fc7-88e9-5b9266a5a5f4"
      },
      "execution_count": null,
      "outputs": [
        {
          "output_type": "stream",
          "name": "stdout",
          "text": [
            "Variance: 34.359375\n"
          ]
        }
      ]
    },
    {
      "cell_type": "code",
      "source": [
        "import numpy as np\n",
        "data = [13,22,25,25,14,23,31,16]\n",
        "mean = np.mean(data)\n",
        "variance = np.var(data,ddof = 1)\n",
        "print(\"Variance:\",variance)"
      ],
      "metadata": {
        "colab": {
          "base_uri": "https://localhost:8080/"
        },
        "id": "Kjf90OlPloTU",
        "outputId": "9614585e-034e-4d27-c734-6275eb11d949"
      },
      "execution_count": null,
      "outputs": [
        {
          "output_type": "stream",
          "name": "stdout",
          "text": [
            "Variance: 39.267857142857146\n"
          ]
        }
      ]
    }
  ]
}