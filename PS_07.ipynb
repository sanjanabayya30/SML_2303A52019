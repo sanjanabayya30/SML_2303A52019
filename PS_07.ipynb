{
  "cells": [
    {
      "cell_type": "markdown",
      "metadata": {
        "id": "view-in-github",
        "colab_type": "text"
      },
      "source": [
        "<a href=\"https://colab.research.google.com/github/sanjanabayya30/SML_2303A52019/blob/main/PS_07.ipynb\" target=\"_parent\"><img src=\"https://colab.research.google.com/assets/colab-badge.svg\" alt=\"Open In Colab\"/></a>"
      ]
    },
    {
      "cell_type": "code",
      "source": [
        "import numpy as np\n",
        "from scipy import stats\n",
        "\n",
        "# Data\n",
        "costs = np.array([25000, 31000, 20000, 28000, 29500, 32000, 21000, 30500, 27000, 28500, 30000, 23000, 31000, 26000, 29500])\n",
        "\n",
        "# Calculate sample mean\n",
        "sample_mean = np.mean(costs)\n",
        "print(\"Sample Mean:\", sample_mean)\n",
        "\n",
        "# Calculate sample standard deviation\n",
        "sample_std = np.std(costs)\n",
        "print(\"Sample Standard Deviation:\", sample_std)\n",
        "\n",
        "# Calculate 95% confidence interval\n",
        "confidence_interval = stats.t.interval(0.95, len(costs)-1, loc=sample_mean, scale=sample_std/np.sqrt(len(costs)))\n",
        "print(\"95% Confidence Interval:\", confidence_interval)\n",
        "\n",
        "# Check if claimed value is within confidence interval\n",
        "claimed_value = 30000\n",
        "if claimed_value >= confidence_interval[0] and claimed_value <= confidence_interval[1]:\n",
        "    print(\"Claimed value is within the 95% confidence interval.\")\n",
        "else:\n",
        "    print(\"Claimed value is not within the 95% confidence interval.\")\n"
      ],
      "metadata": {
        "id": "oZOIWtvAvN5d",
        "outputId": "3ad47bf3-10b7-4f9c-b98e-be2a3ef840ef",
        "colab": {
          "base_uri": "https://localhost:8080/"
        }
      },
      "execution_count": null,
      "outputs": [
        {
          "output_type": "stream",
          "name": "stdout",
          "text": [
            "Sample Mean: 27466.666666666668\n",
            "Sample Standard Deviation: 3621.540494810952\n",
            "95% Confidence Interval: (np.float64(25461.124388611483), np.float64(29472.208944721853))\n",
            "Claimed value is not within the 95% confidence interval.\n"
          ]
        }
      ]
    }
  ],
  "metadata": {
    "colab": {
      "provenance": [],
      "include_colab_link": true
    },
    "kernelspec": {
      "display_name": "Python 3",
      "name": "python3"
    }
  },
  "nbformat": 4,
  "nbformat_minor": 0
}